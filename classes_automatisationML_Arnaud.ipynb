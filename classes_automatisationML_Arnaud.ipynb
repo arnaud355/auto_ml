{
 "cells": [
  {
   "cell_type": "code",
   "execution_count": 53,
   "metadata": {},
   "outputs": [],
   "source": [
    "import pandas as pd\n",
    "import numpy as np\n",
    "from sklearn.preprocessing import LabelEncoder, OneHotEncoder\n",
    "from sklearn.preprocessing import StandardScaler\n",
    "from sklearn.model_selection import train_test_split\n",
    "from sklearn.linear_model import LogisticRegression\n",
    "from sklearn.linear_model import LinearRegression\n",
    "from sklearn.preprocessing import Imputer\n",
    "from sklearn.metrics import accuracy_score\n",
    "from sklearn.experimental import enable_iterative_imputer\n",
    "from sklearn.impute import IterativeImputer\n",
    "from sklearn.metrics import mean_squared_error, r2_score"
   ]
  },
  {
   "cell_type": "code",
   "execution_count": 2,
   "metadata": {},
   "outputs": [
    {
     "data": {
      "text/plain": [
       "['multithreading_Selenium_Arnaud_v2.ipynb',\n",
       " '20190718_Programmation_Oriente_Objet.ipynb',\n",
       " 'multithreading.ipynb',\n",
       " '20190417 Introduction à la programmation python .ipynb',\n",
       " 'derivees.ipynb',\n",
       " 'train.csv',\n",
       " '.ipynb_checkpoints',\n",
       " 'classes_automatisationML_Arnaud.ipynb',\n",
       " '20190712_operators_exercice_et_autres.ipynb']"
      ]
     },
     "execution_count": 2,
     "metadata": {},
     "output_type": "execute_result"
    }
   ],
   "source": [
    "import os\n",
    "os.listdir()\n",
    "#Pour import son module (contenant ses classes), le mettre dans fichier.txt,\n",
    "#renommer en fichier.py\n",
    "#import nomfichier: example: zoo.py: import zoo\n",
    "#from zoo import Animal: \n",
    "#chien = Animal(2,4,10)"
   ]
  },
  {
   "cell_type": "code",
   "execution_count": 60,
   "metadata": {},
   "outputs": [],
   "source": [
    "class Auto_ml:\n",
    "    def __init__(self,nom_fichier,colonne_prediction):\n",
    "        self.fichier=nom_fichier\n",
    "        self.dataset=pd.read_csv(self.fichier)\n",
    "        self.colonne_prediction=colonne_prediction\n",
    "        self.y=self.dataset[self.colonne_prediction].values\n",
    "    \n",
    "    def predict(self):\n",
    "        self.X_train, self.X_test, self.y_train, self.y_test = self.X()\n",
    "        \n",
    "        classifier_linear = LinearRegression()\n",
    "        classifier_linear.fit(self.X_train, self.y_train)\n",
    "        \n",
    "        predicted_linear = classifier_linear.predict(self.X_test)\n",
    "        scoreLinear = r2_score(self.y_test,predicted_linear)\n",
    "        \n",
    "        classifier_regression = LogisticRegression()\n",
    "        classifier_regression.fit(self.X_train,self.y_train)\n",
    "        \n",
    "        predicted_regression = classifier_regression.predict(self.X_test)\n",
    "        scoreLogistic = r2_score(self.y_test,predicted_regression)\n",
    "        \n",
    "        return \"accuracy lineaire:\",scoreLinear,\"accuracy regression:\",scoreLogistic\n",
    "        \n",
    "      \n",
    "    def _pre_processing(self):\n",
    "        #drop la colonne prédite\n",
    "        #To delete the column without having to reassign df you can do:\n",
    "     \n",
    "        X = self.dataset.loc[:,\"Id\":\"SaleCondition\"]\n",
    "        #Traiter les NA\n",
    "       \n",
    "        \n",
    "        #Drop columns qui ont 25% de donnée manquantes\n",
    "        X.dropna(axis='columns', thresh=0.75 * len(X), inplace= True)\n",
    "        \n",
    "        # Get dummies\n",
    "        X = pd.get_dummies(X, prefix_sep='_', drop_first=True)\n",
    "       \n",
    "                \n",
    "        imp_mean = IterativeImputer(random_state=0)\n",
    "        imp_mean.fit(X)\n",
    "        X = imp_mean.fit_transform(X)\n",
    "        X = pd.DataFrame(X)\n",
    "        \n",
    "        #Réduction dimensions\n",
    "        data_columns = X.columns\n",
    "        for x in data_columns:\n",
    "            if X[x].dtypes == \"float64\":\n",
    "                X[x] = X[x].astype('float32')\n",
    "            if X[x].dtypes == \"int64\":\n",
    "                X[x] = X[x].astype('int32')\n",
    "         \n",
    "         \n",
    "        self.X_train, self.X_test, self.y_train, self.y_test = train_test_split(X,self.y, test_size = 0.2, random_state = 0)\n",
    "\n",
    "        sc = StandardScaler()\n",
    "        self.X_train = sc.fit_transform(self.X_train)\n",
    "        self.X_test = sc.transform(self.X_test)\n",
    "        return self.X_train,self.X_test,self.y_train,self.y_test\n",
    "    \n",
    "    def X(self):\n",
    "        return self._pre_processing()\n",
    "    \n",
    "    def y(self):\n",
    "        return y"
   ]
  },
  {
   "cell_type": "code",
   "execution_count": 61,
   "metadata": {},
   "outputs": [
    {
     "data": {
      "text/plain": [
       "(array([[-0.28399978, -0.86836547,  0.86631708, ..., -0.10188534,\n",
       "         -2.20665963,  3.30429529],\n",
       "        [ 0.31396549, -0.86836547, -0.46759368, ..., -0.10188534,\n",
       "          0.45317365, -0.30263639],\n",
       "        [-1.53213363, -0.63114155,  0.42168016, ..., -0.10188534,\n",
       "          0.45317365, -0.30263639],\n",
       "        ...,\n",
       "        [ 1.13498129,  0.79220197, -0.11188415, ..., -0.10188534,\n",
       "          0.45317365, -0.30263639],\n",
       "        [-0.42399958,  1.50387373, -1.04826327, ..., -0.10188534,\n",
       "          0.45317365, -0.30263639],\n",
       "        [-0.12738983,  0.08053021, -0.55652106, ..., -0.10188534,\n",
       "          0.45317365, -0.30263639]]),\n",
       " array([[-0.49518592, -0.86836547,  0.90316809, ..., -0.10188534,\n",
       "         -2.20665963, -0.30263639],\n",
       "        [-0.58535529, -0.15669371,  0.37721647, ..., -0.10188534,\n",
       "          0.45317365, -0.30263639],\n",
       "        [-0.66128739, -0.15669371,  0.1335122 , ..., -0.10188534,\n",
       "          0.45317365, -0.30263639],\n",
       "        ...,\n",
       "        [ 1.54074343, -0.15669371, -0.46759368, ...,  9.81495458,\n",
       "         -2.20665963, -0.30263639],\n",
       "        [ 1.38887924, -0.63114155, -0.9122306 , ..., -0.10188534,\n",
       "          0.45317365, -0.30263639],\n",
       "        [-1.60569284,  0.43636609, -0.46759368, ..., -0.10188534,\n",
       "          0.45317365, -0.30263639]]),\n",
       " array([314813, 109500, 163500, ..., 112000, 234000, 221000]),\n",
       " array([200624, 133000, 110000, 192000,  88000,  85000, 282922, 141000,\n",
       "        745000, 148800, 208900, 136905, 225000, 123000, 119200, 145000,\n",
       "        190000, 123600, 149350, 155000, 166000, 144500, 110000, 174000,\n",
       "        185000, 168000, 177500,  84500, 320000, 118500, 110000, 213000,\n",
       "        156000, 250000, 372500, 175000, 277500, 112500, 263000, 325000,\n",
       "        243000, 130000, 164990, 280000, 403000, 119000, 125000, 128200,\n",
       "        172500,  84900, 412500, 156000, 167900, 100000, 275000, 123000,\n",
       "        132000, 239900, 139000, 115000, 137500, 135000, 134450, 180500,\n",
       "        193500, 156500, 132000, 224500, 139000, 225000, 188500, 118000,\n",
       "         82000, 392000, 112000, 248900, 134500,  79500, 320000, 158000,\n",
       "        140000, 136500, 107500, 145000, 200500, 185000, 105000, 202665,\n",
       "        186000, 136000, 200500, 190000, 187500, 200000, 172500, 157000,\n",
       "        213000, 185000, 124500, 162900, 260000, 198500, 120000, 159500,\n",
       "        105900, 260000, 143000, 106500, 178900, 127000,  90350, 118500,\n",
       "        190000, 119900, 183900, 155000, 386250, 133000, 193500, 270000,\n",
       "        141000, 146000, 128500, 176000, 214000, 222000, 415298, 187750,\n",
       "        199900, 180000, 206300, 194000, 142953, 182900, 116050, 213250,\n",
       "        139500, 179000, 107900, 175900, 158500, 145000, 217000, 150500,\n",
       "        108959, 165600, 201000, 145500, 319900, 215000, 180500, 367294,\n",
       "        239000, 145900, 161000, 250000,  89471, 230000, 147000, 163900,\n",
       "         97000, 142000, 197000, 129000, 232000, 115000, 175000, 265000,\n",
       "        207000, 181000, 176000, 171000, 196000, 176000, 113000, 139000,\n",
       "        135000, 240000, 112000, 134000, 316600, 170000, 116000, 306000,\n",
       "         82500, 175000, 106000, 194000, 194201, 155900, 138000, 177000,\n",
       "        214000, 148000, 127000, 142500,  80000, 145000, 171000, 122500,\n",
       "        139000, 189000, 120500, 124000, 160000, 200000, 160000, 313000,\n",
       "        275000,  67000, 159000, 251000,  92900, 109500, 385000, 129000,\n",
       "         82500, 301000, 249700,  81000, 187500, 110000, 117000, 128500,\n",
       "        213490, 284000, 230500, 190000, 135000, 152000,  87500, 155000,\n",
       "        115000, 144000, 248000, 132500, 136000, 117000,  82000, 157500,\n",
       "        110000, 181000, 192500, 223500, 181500, 170000, 187500, 185900,\n",
       "        160000, 192000, 181900, 266000,  99900, 438780, 229456, 216837,\n",
       "        110500, 175900, 538000, 160000, 172500, 108000, 131500, 106250,\n",
       "        385000, 370878, 345000,  68500, 250000, 245350, 125000, 234000,\n",
       "        145000, 181000, 104000, 233000, 164000, 219500, 195000, 108000,\n",
       "        149900, 315000, 177500, 140000, 193879, 137900, 118000, 324000,\n",
       "        555000, 136000,  82500, 101000]))"
      ]
     },
     "execution_count": 61,
     "metadata": {},
     "output_type": "execute_result"
    }
   ],
   "source": [
    "auto_data = Auto_ml(\"train.csv\",\"SalePrice\")\n",
    "#retourn un X qui a été prétraité\n",
    "auto_data.X()"
   ]
  },
  {
   "cell_type": "code",
   "execution_count": 48,
   "metadata": {},
   "outputs": [
    {
     "data": {
      "text/plain": [
       "array([208500, 181500, 223500, ..., 266500, 142125, 147500])"
      ]
     },
     "execution_count": 48,
     "metadata": {},
     "output_type": "execute_result"
    }
   ],
   "source": [
    "auto_data.y"
   ]
  },
  {
   "cell_type": "code",
   "execution_count": null,
   "metadata": {},
   "outputs": [],
   "source": [
    "auto_data.predict()"
   ]
  }
 ],
 "metadata": {
  "kernelspec": {
   "display_name": "Python 3",
   "language": "python",
   "name": "python3"
  },
  "language_info": {
   "codemirror_mode": {
    "name": "ipython",
    "version": 3
   },
   "file_extension": ".py",
   "mimetype": "text/x-python",
   "name": "python",
   "nbconvert_exporter": "python",
   "pygments_lexer": "ipython3",
   "version": "3.7.3"
  }
 },
 "nbformat": 4,
 "nbformat_minor": 2
}
